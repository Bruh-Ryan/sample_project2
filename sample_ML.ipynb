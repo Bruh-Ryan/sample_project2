{
  "metadata": {
    "kernelspec": {
      "name": "python",
      "display_name": "Python (Pyodide)",
      "language": "python"
    },
    "language_info": {
      "codemirror_mode": {
        "name": "python",
        "version": 3
      },
      "file_extension": ".py",
      "mimetype": "text/x-python",
      "name": "python",
      "nbconvert_exporter": "python",
      "pygments_lexer": "ipython3",
      "version": "3.8"
    }
  },
  "nbformat_minor": 5,
  "nbformat": 4,
  "cells": [
    {
      "id": "edcdf928-5797-4913-b269-7bf491d4e459",
      "cell_type": "code",
      "source": "print(\"Hellow world\")",
      "metadata": {
        "trusted": true
      },
      "outputs": [
        {
          "name": "stdout",
          "output_type": "stream",
          "text": "Hellow world\n"
        }
      ],
      "execution_count": 1
    },
    {
      "id": "f1517753-c449-40e6-bf49-8a3b01536d59",
      "cell_type": "code",
      "source": "# File: train_model.py\nfrom sklearn.datasets import load_iris\nfrom sklearn.linear_model import LogisticRegression\n\n# Load the dataset\nX, y = load_iris(return_X_y=True)\n\n# Create and train the model\nclf = LogisticRegression(max_iter=200)\nclf.fit(X, y)\n\nprint(\"Model trained successfully!\")\n",
      "metadata": {
        "trusted": true
      },
      "outputs": [
        {
          "name": "stdout",
          "output_type": "stream",
          "text": "Model trained successfully!\n"
        }
      ],
      "execution_count": 2
    },
    {
      "id": "916f6df7-3e52-4b17-8b74-1d39903cda3e",
      "cell_type": "code",
      "source": "",
      "metadata": {
        "trusted": true
      },
      "outputs": [],
      "execution_count": null
    }
  ]
}